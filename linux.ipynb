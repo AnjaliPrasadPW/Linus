{
  "nbformat": 4,
  "nbformat_minor": 0,
  "metadata": {
    "colab": {
      "provenance": []
    },
    "kernelspec": {
      "name": "python3",
      "display_name": "Python 3"
    },
    "language_info": {
      "name": "python"
    }
  },
  "cells": [
    {
      "cell_type": "markdown",
      "source": [
        "# Linux\n",
        "1. What is Linux?\n",
        "\n",
        "  -Linux is a open operating system like Windows.  It helps your computer work and run apps. Its fast, safe, and you can change its code if you want\n",
        "\n",
        "\n",
        "\n",
        "2. What is the difference between Hard Link & Soft Linux?\n",
        "\n",
        "   -Diffence between hard link and soft link is--\n",
        "\n",
        "   Hard Link  \n",
        "   1.A hard link is like a copy of the original file that points to the same data on the disk.\n",
        "   \n",
        "    2.If you make a hard link, you will have two files, but both of them use the same content.\n",
        "    \n",
        "     3.If you delete the original file, the hard link will still work because the actual data is still on the disk.\n",
        "\n",
        "   4.hard links can only be made in the same file system\n",
        "\n",
        "   Soft Link\n",
        "\n",
        "   1.A soft link (or symbolic link) is like a shortcut to the original file.\n",
        "\n",
        "   2.It only stores the path to the original file, not the data itself.\n",
        "   \n",
        "   3.If you delete the original file, the soft link will not work anymore — it becomes a broken link.\n",
        "\n",
        "   4.Soft links can connect files across different drivesor folders.\n",
        "\n",
        "\n",
        "\n",
        "3. What is a Kernel in Linux?\n",
        "\n",
        "  -The kernel is the core part and the most important part of the Linux operating system(OS). It works like a bridge between the hardware and software. When you run a program or open a file, the kernel helps your computers hardware (like CPU, memory,device) do what the software(application) is asking. It manages things like memory, processes, files, and devices. Without the kernel, your computer wouldn't know how to talk to the hardware.\n",
        "\n",
        "\n"
      ],
      "metadata": {
        "id": "zbH2C9bLtcSh"
      }
    },
    {
      "cell_type": "code",
      "source": [
        "##4.How do you create a user account?\n",
        "\n",
        ".......bash\n",
        "git config --global user.name  \"Your Name\"\n",
        ".......bash"
      ],
      "metadata": {
        "id": "byQSWSgj1Ho2"
      },
      "execution_count": null,
      "outputs": []
    },
    {
      "cell_type": "markdown",
      "source": [
        "5. What is the ‘grep’ command used for in Linux?\n",
        "\n",
        "   -This commmand is used to search for text in files.\n",
        "   You give it a word or pattern, and it shows you the lines in the file that match."
      ],
      "metadata": {
        "id": "gka4wj8m1aoV"
      }
    },
    {
      "cell_type": "code",
      "source": [
        " ##6. Step1:Create user p1\n",
        " ##Step2: He should be part of 3 groups g1,g2,g3.\n",
        " ##Step3: whenever he creates a file automatically in the group section of file grp g1 should come.\n",
        "\n",
        "# Create groups\n",
        "net localgroup g1 /add\n",
        "net localgroup g2 /add\n",
        "net localgroup g3 /add\n",
        "\n",
        "# Create user with password\n",
        "net user p1 MyPassword123 /add\n",
        "\n",
        "# Add user to groups\n",
        "net localgroup g1 p1 /add\n",
        "net localgroup g2 p1 /add\n",
        "net localgroup g3 p1 /add\n",
        "\n",
        "\n",
        "'''7. Step1: Create directory /tmp/bg as root user and create files inside it.\n",
        "Step2: “abhi” should be the owner of the directory. He should be able to create files and delete files inside\n",
        "the directory and also he should be able to add content to all files inside the directory.'''\n",
        "\n",
        "# Create the directory\n",
        "mkdir -p /tmp/bg\n",
        "\n",
        "# Create files inside the directory\n",
        "touch /tmp/bg/file1.txt\n",
        "touch /tmp/bg/file2.txt\n",
        "\n",
        "# Add content to a file\n",
        "echo \"Hello abhi!\" > /tmp/bg/file1.txt\n",
        "\n",
        "# List files\n",
        "ls -l /tmp/bg\n",
        "\n",
        "\n"
      ],
      "metadata": {
        "id": "_o0pRRBGLvHv"
      },
      "execution_count": null,
      "outputs": []
    },
    {
      "cell_type": "markdown",
      "source": [
        "8. You suspect that a particular process is consuming excessive CPU resources on your Linux server. How\n",
        "would you identify and terminate this process?\n",
        "\n",
        "  -Run 'top' command to see processes using the most CPU.Then find the process’s PID (first column) and then stop it by running by using kill   \n",
        "\n",
        "  ....bash\n",
        "  kill <PID>\n",
        "  ....bash\n",
        "\n",
        "  And if it doesn’t stop, force kill with:\n",
        "\n",
        "  ....bash\n",
        "  kill -9 <PID>\n",
        "  ....bash"
      ],
      "metadata": {
        "id": "FBvAWmipOtFM"
      }
    }
  ]
}